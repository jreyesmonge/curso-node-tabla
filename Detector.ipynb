{
  "nbformat": 4,
  "nbformat_minor": 0,
  "metadata": {
    "colab": {
      "provenance": [],
      "authorship_tag": "ABX9TyPZYb/ftIBrRTmBvj+Y8ihF",
      "include_colab_link": true
    },
    "kernelspec": {
      "name": "python3",
      "display_name": "Python 3"
    },
    "language_info": {
      "name": "python"
    }
  },
  "cells": [
    {
      "cell_type": "markdown",
      "metadata": {
        "id": "view-in-github",
        "colab_type": "text"
      },
      "source": [
        "<a href=\"https://colab.research.google.com/github/jreyesmonge/curso-node-tabla/blob/main/Detector.ipynb\" target=\"_parent\"><img src=\"https://colab.research.google.com/assets/colab-badge.svg\" alt=\"Open In Colab\"/></a>"
      ]
    },
    {
      "cell_type": "code",
      "execution_count": 1,
      "metadata": {
        "id": "UbyTwXnmwnG3"
      },
      "outputs": [],
      "source": [
        "import cv2"
      ]
    },
    {
      "cell_type": "code",
      "source": [
        "cap = cv2.VideoCapture(\"jenga2.mp4\")\n",
        "area_minima = 10500"
      ],
      "metadata": {
        "id": "7er50vcnw4NV"
      },
      "execution_count": 2,
      "outputs": []
    },
    {
      "cell_type": "code",
      "source": [
        "while cap.isOpened():\n",
        "  ret,frame = cap.read()\n",
        "\n",
        "  if not ret:\n",
        "    break\n",
        "  gray = cv2.cvtColor(frame,cv2.COLOR_BGR2GRAY)\n",
        "  _,thresh = cv2.threshold(gray,200,255,cv2.THRESH_BINARY)\n",
        "  countourns,_= cv2.findContours(thresh,cv2.RETR_EXTERNAL,cv2.CHAIN_APPROX_SIMPLE)\n",
        "\n",
        "  countourns_filter = [c for c in countourns if cv2.contourArea(c) > area_minima]\n",
        "  frame_countourns = frame.copy()\n",
        "  cv2.drawContours(frame_countourns,countourns_filter,-1,(10,500,0),8)\n",
        "\n",
        "  imagen_con_texto = cv2.putText(frame_countourns,f\"numero objetos:{len(countourns_filter)}\",(10,500),cv2.FONT_HERSHEY_SIMPLEX,1,(255,255,255),3)\n",
        "  cv2.imshow('video con contornos',imagen_con_texto)\n",
        "\n",
        "  if cv2.waitKey(20) & 0xFF == ord('q'):\n",
        "    break\n",
        "  cap.release()\n",
        "  cv2.destroyAllWindows()\n",
        "\n"
      ],
      "metadata": {
        "id": "q3S3Hg62xJHb"
      },
      "execution_count": 5,
      "outputs": []
    }
  ]
}