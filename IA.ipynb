{
  "nbformat": 4,
  "nbformat_minor": 0,
  "metadata": {
    "colab": {
      "provenance": [],
      "authorship_tag": "ABX9TyOv8e0z2w4ioDM2y1pojFfn",
      "include_colab_link": true
    },
    "kernelspec": {
      "name": "python3",
      "display_name": "Python 3"
    },
    "language_info": {
      "name": "python"
    }
  },
  "cells": [
    {
      "cell_type": "markdown",
      "metadata": {
        "id": "view-in-github",
        "colab_type": "text"
      },
      "source": [
        "<a href=\"https://colab.research.google.com/github/jreyesmonge/curso-node-tabla/blob/main/IA.ipynb\" target=\"_parent\"><img src=\"https://colab.research.google.com/assets/colab-badge.svg\" alt=\"Open In Colab\"/></a>"
      ]
    },
    {
      "cell_type": "markdown",
      "source": [
        "importando librerias"
      ],
      "metadata": {
        "id": "5rGqQG2wvkNe"
      }
    },
    {
      "cell_type": "code",
      "execution_count": 35,
      "metadata": {
        "id": "wICpR3TVpNXt"
      },
      "outputs": [],
      "source": [
        "import tensorflow as tf\n",
        "import numpy as np\n",
        "import cv2"
      ]
    },
    {
      "cell_type": "markdown",
      "source": [
        "declarando array con los valores que se van a comparar"
      ],
      "metadata": {
        "id": "5vY89nqRvOD-"
      }
    },
    {
      "cell_type": "code",
      "source": [
        "pesos = np.array([5,15,20,25,30,35,40,45,50,55])\n",
        "dolares = np.array([10,30,40,50,60,70,80,90,100,110])"
      ],
      "metadata": {
        "id": "9uEYtk-Pp4ZX"
      },
      "execution_count": 19,
      "outputs": []
    },
    {
      "cell_type": "markdown",
      "source": [
        "creando capas"
      ],
      "metadata": {
        "id": "KVCpS06EvqEg"
      }
    },
    {
      "cell_type": "code",
      "source": [
        "oculto1 = tf.keras.layers.Dense(units = 3,input_shape = [1])\n",
        "oculto2 = tf.keras.layers.Dense(units=3)\n",
        "salida = tf.keras.layers.Dense(units = 1)\n"
      ],
      "metadata": {
        "id": "NxNlOGrwp8sF"
      },
      "execution_count": 21,
      "outputs": []
    },
    {
      "cell_type": "markdown",
      "source": [
        "Creando modelo"
      ],
      "metadata": {
        "id": "DaKO00f6vxph"
      }
    },
    {
      "cell_type": "code",
      "source": [
        "modelo = tf.keras.Sequential([oculto1,oculto2,salida])\n",
        "modelo.compile(tf.keras.optimizers.Adam(0.1),loss = 'mean_squared_error')"
      ],
      "metadata": {
        "id": "gNtBEdI2rPXO"
      },
      "execution_count": 29,
      "outputs": []
    },
    {
      "cell_type": "markdown",
      "source": [
        "Entrenando modelo"
      ],
      "metadata": {
        "id": "LvzwMftrv09p"
      }
    },
    {
      "cell_type": "code",
      "source": [
        "print(\"Empezando entrenamiento...\")\n",
        "historial = modelo.fit(pesos,dolares,epochs = 1000,verbose=False)\n",
        "print(\"Modelo entrenado\")\n"
      ],
      "metadata": {
        "colab": {
          "base_uri": "https://localhost:8080/"
        },
        "id": "KkNstwM2sRL3",
        "outputId": "021fa0ef-32e8-4cb8-a583-86f2af6ba2db"
      },
      "execution_count": 33,
      "outputs": [
        {
          "output_type": "stream",
          "name": "stdout",
          "text": [
            "Empezando entrenamiento...\n",
            "Modelo entrenado\n"
          ]
        }
      ]
    },
    {
      "cell_type": "markdown",
      "source": [
        "Imprimiendo resultado de la prediccion"
      ],
      "metadata": {
        "id": "49ohh5L2wFC-"
      }
    },
    {
      "cell_type": "code",
      "source": [
        "resultado = modelo.predict([80])\n",
        "print(\"El resultado es : \"+str(resultado)+\" dolares\")"
      ],
      "metadata": {
        "colab": {
          "base_uri": "https://localhost:8080/"
        },
        "id": "FnutnShdv831",
        "outputId": "11b14181-b198-4935-a0bf-ffe87fb3fea7"
      },
      "execution_count": 34,
      "outputs": [
        {
          "output_type": "stream",
          "name": "stdout",
          "text": [
            "1/1 [==============================] - 0s 36ms/step\n",
            "El resultado es : [[160.00002]] dolares\n"
          ]
        }
      ]
    }
  ]
}